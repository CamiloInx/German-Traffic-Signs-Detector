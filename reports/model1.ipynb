{
 "cells": [
  {
   "cell_type": "markdown",
   "metadata": {},
   "source": [
    "# Model 1 report"
   ]
  },
  {
   "cell_type": "markdown",
   "metadata": {},
   "source": [
    "Model 1 implements the original Lenet5 architecture (little changes are made).\n",
    "\n",
    "The architecture used in this model is the following:\n",
    "\n",
    "Input(32x32x3) --> Conv1 --> Avg_Pool1 --> Actv1 --> Conv2 --> Avg_Pool2 --> Actv2 --> Conv3 --> Actv3--> FC1 --> Actv4 --> Output\n",
    "\n",
    "Input: Input tensor of shape [None, 32, 32, 3] where the None value is waiting for the batch size.\n",
    "\n",
    "Conv1: Uses 6 filters of size 5x5\n",
    "\n",
    "Avg_Pool1: Padding of 2 with stride of 2\n",
    "\n",
    "Actv1: Sigmoid activation function is applied\n",
    "\n",
    "Conv2: Uses 16 filters of size 5x5\n",
    "\n",
    "Avg_Pool2: Padding of 2 with stride of 2\n",
    "\n",
    "Actv2: Sigmoid activation function is applied\n",
    "\n",
    "Conv3: Uses 120 filters of size 5x5\n",
    "\n",
    "Actv3: Sigmoid activation function is applied\n",
    "\n",
    "FC1: Contains 84 units.\n",
    "\n",
    "Actv4: Sigmoid activation function is applied (the original paper uses a scaled hyperbolic tangent)\n",
    "\n",
    "Output: Contains 43 units wich are the total number of classes and it uses a softmax function for the output (the original paper uses a RBF function)\n",
    "\n",
    "\n"
   ]
  },
  {
   "cell_type": "code",
   "execution_count": 1,
   "metadata": {},
   "outputs": [
    {
     "name": "stderr",
     "output_type": "stream",
     "text": [
      "/usr/local/lib/python3.5/dist-packages/h5py/__init__.py:36: FutureWarning: Conversion of the second argument of issubdtype from `float` to `np.floating` is deprecated. In future, it will be treated as `np.float64 == np.dtype(float).type`.\n",
      "  from ._conv import register_converters as _register_converters\n"
     ]
    }
   ],
   "source": [
    "import numpy as np\n",
    "import pandas as pd\n",
    "import tensorflow as tf \n",
    "import matplotlib\n",
    "import matplotlib.pyplot as plt\n",
    "import sys\n",
    "import os\n",
    "sys.path.append(\"../src/\")\n",
    "\n",
    "from preprocess_data import *\n",
    "from lenet5 import *\n",
    "from utils import *\n",
    "%matplotlib inline\n",
    "os.chdir(\"../\")"
   ]
  },
  {
   "cell_type": "markdown",
   "metadata": {},
   "source": [
    "The dataset contains images of 43 different traffing signs.\n",
    "The images contained in the provided dataset has a problem with the number of examples per class. Some of the classes contains only two or three images, for that reason, when splitting the data for training and testing, the splitting algorithm randomly selected 80% for training and 20% for testing in each class folder. Due to this, in the testing set some of the classes are not present (i.e. 31, 19, 37, 0). In my opinion it is a better option to split the data in this way because it guarantees that the model can predict all 43 classes (which cannot be done using a standard train_test_split() function).\n",
    "\n",
    "Afther dividing the training and testing sets, data augmentation was carried out on the training set. This step was not done before splitting the data to prevent overfitting while combining augmented images on the training and testing sets. In this way we can guarantee that the model has never seen the images of the test set nor a transformed form of it."
   ]
  },
  {
   "cell_type": "code",
   "execution_count": 2,
   "metadata": {},
   "outputs": [
    {
     "name": "stderr",
     "output_type": "stream",
     "text": [
      "  7%|▋         | 363/5010 [00:00<00:01, 3628.95it/s]"
     ]
    },
    {
     "name": "stdout",
     "output_type": "stream",
     "text": [
      "#============ Loading Data ============#\n"
     ]
    },
    {
     "name": "stderr",
     "output_type": "stream",
     "text": [
      "100%|██████████| 5010/5010 [00:00<00:00, 5018.34it/s]\n"
     ]
    }
   ],
   "source": [
    "# Load the data\n",
    "cwd = os.getcwd()\n",
    "train_folder = os.path.join(os.getcwd(), \"images\", \"train\")\n",
    "train_images, train_labels = load_dataset(train_folder, img_size=32) #Load the training data\n",
    "os.chdir(cwd)"
   ]
  },
  {
   "cell_type": "code",
   "execution_count": 3,
   "metadata": {
    "scrolled": false
   },
   "outputs": [
    {
     "data": {
      "text/plain": [
       "<matplotlib.axes._subplots.AxesSubplot at 0x7fe41b7150f0>"
      ]
     },
     "execution_count": 3,
     "metadata": {},
     "output_type": "execute_result"
    },
    {
     "data": {
      "image/png": "[encoded data removed]",
      "text/plain": [
       "<Figure size 720x720 with 1 Axes>"
      ]
     },
     "metadata": {},
     "output_type": "display_data"
    }
   ],
   "source": [
    "# Plot the distribution of the triaining data\n",
    "matplotlib.rcParams['figure.figsize'] = [10, 10]\n",
    "df = pd.Series(train_labels)\n",
    "df.value_counts().plot('barh', grid=True, title=\"Number of images per class\")"
   ]
  },
  {
   "cell_type": "markdown",
   "metadata": {},
   "source": [
    "We can see that the classes are highly unbalanced and when the model evaluates the test data, it will missclassify the classes with fewer training images.\n",
    "The data augmentation process creates 4 new images from every single image. For example if a class has originally 2 images, after augmentation it will have 10 images (2x4 + 2).\n"
   ]
  },
  {
   "cell_type": "markdown",
   "metadata": {},
   "source": [
    "The model process used  mean cross entropy as the loss for the classification problem.\n",
    "\n",
    "The optimizer used for training was Adam (adaptive moment estimation).\n",
    "\n",
    "The learning rate used was: 0.001.\n",
    "\n",
    "The model was trained for 80 epochs.\n",
    "\n",
    "The batch size used was 32. Each minibath was created using the tf.data API.\n",
    "\n",
    "Xavier initialization was implemented for initialiazing the convolutional layers."
   ]
  },
  {
   "cell_type": "markdown",
   "metadata": {},
   "source": [
    "# Train accuracy"
   ]
  },
  {
   "cell_type": "markdown",
   "metadata": {},
   "source": [
    "Data during training is randomized. The accuracy obtained by the model on the training set is 58.8%."
   ]
  },
  {
   "cell_type": "code",
   "execution_count": 4,
   "metadata": {},
   "outputs": [
    {
     "name": "stderr",
     "output_type": "stream",
     "text": [
      " 10%|▉         | 494/5010 [00:00<00:00, 4933.79it/s]"
     ]
    },
    {
     "name": "stdout",
     "output_type": "stream",
     "text": [
      "#============ Loading Data ============#\n"
     ]
    },
    {
     "name": "stderr",
     "output_type": "stream",
     "text": [
      "100%|██████████| 5010/5010 [00:00<00:00, 5411.23it/s]\n"
     ]
    },
    {
     "name": "stdout",
     "output_type": "stream",
     "text": [
      "Number of training examples = 5010\n",
      "X_train shape: (5010, 32, 32, 3)\n",
      "Y_train shape: (5010, 43)\n",
      "WARNING:tensorflow:From /usr/local/lib/python3.5/dist-packages/tensorflow/contrib/learn/python/learn/datasets/base.py:198: retry (from tensorflow.contrib.learn.python.learn.datasets.base) is deprecated and will be removed in a future version.\n",
      "Instructions for updating:\n",
      "Use the retry module or similar alternatives.\n",
      "INFO:tensorflow:Restoring parameters from /home/camiloiral/Workspace/kiwi_challenge/German_Traffic_Signs_Detector/models/model1/saved/lenet5\n",
      "#============ train accuracy: 0.5882235765457153 ============#\n"
     ]
    }
   ],
   "source": [
    "# Calculate the accuracy on the training data\n",
    "train_preds = evaluate_lenet5(d=train_folder, model=\"model1\", n_classes= 43, mode=\"train\")\n",
    "train_preds = np.array(train_preds)"
   ]
  },
  {
   "cell_type": "code",
   "execution_count": 5,
   "metadata": {},
   "outputs": [],
   "source": [
    "# Compare predictions with real labels\n",
    "true_train_preds = np.equal(train_labels, train_preds)\n",
    "df_preds = pd.DataFrame({\"true_label\":train_labels, \"prediction\":train_preds, \"is_equal\":true_train_preds})"
   ]
  },
  {
   "cell_type": "markdown",
   "metadata": {},
   "source": [
    "To see more clear what is happening, we are going to compare the correct number of predictions per class. But first we look at exactly how many training examples are per class"
   ]
  },
  {
   "cell_type": "code",
   "execution_count": 6,
   "metadata": {
    "scrolled": true
   },
   "outputs": [
    {
     "name": "stdout",
     "output_type": "stream",
     "text": [
      "            count\n",
      "true_label       \n",
      "0              20\n",
      "1             325\n",
      "2             330\n",
      "3             125\n",
      "4             285\n",
      "5             220\n",
      "6              80\n",
      "7             165\n",
      "8             235\n",
      "9             170\n",
      "10            320\n",
      "11            155\n",
      "12            345\n",
      "13            340\n",
      "14            130\n",
      "15             60\n",
      "16             35\n",
      "17            120\n",
      "18            155\n",
      "19             10\n",
      "20             40\n",
      "21             20\n",
      "22             55\n",
      "23             80\n",
      "24             20\n",
      "25            130\n",
      "26             75\n",
      "27             15\n",
      "28             60\n",
      "29             20\n",
      "30             65\n",
      "31             10\n",
      "32             35\n",
      "33             65\n",
      "34             50\n",
      "35             80\n",
      "36             40\n",
      "37             10\n",
      "38            370\n",
      "39             25\n",
      "40             45\n",
      "41             30\n",
      "42             45\n"
     ]
    }
   ],
   "source": [
    "df1 = df_preds.groupby(\"true_label\")[\"true_label\"].agg([\"count\"])\n",
    "print(df1)"
   ]
  },
  {
   "cell_type": "markdown",
   "metadata": {},
   "source": [
    "Then compare the how many predictions were correct and incorrect per class"
   ]
  },
  {
   "cell_type": "code",
   "execution_count": 7,
   "metadata": {
    "scrolled": true
   },
   "outputs": [
    {
     "name": "stdout",
     "output_type": "stream",
     "text": [
      "                    prediction\n",
      "                         count\n",
      "true_label is_equal           \n",
      "0          False            20\n",
      "1          False            50\n",
      "           True            275\n",
      "2          False            35\n",
      "           True            295\n",
      "3          False           125\n",
      "4          False            71\n",
      "           True            214\n",
      "5          False           220\n",
      "6          True             80\n",
      "7          False           165\n",
      "8          False            30\n",
      "           True            205\n",
      "9          False             6\n",
      "           True            164\n",
      "10         False             1\n",
      "           True            319\n",
      "11         False             9\n",
      "           True            146\n",
      "12         False             6\n",
      "           True            339\n",
      "13         False            14\n",
      "           True            326\n",
      "14         False             6\n",
      "           True            124\n",
      "15         False            60\n",
      "16         False            35\n",
      "17         False           120\n",
      "18         False           155\n",
      "19         False            10\n",
      "20         False            40\n",
      "21         False            20\n",
      "22         False            55\n",
      "23         False            80\n",
      "24         False            20\n",
      "25         False            30\n",
      "           True            100\n",
      "26         False            75\n",
      "27         False            15\n",
      "28         False            60\n",
      "29         False            20\n",
      "30         False            65\n",
      "31         False            10\n",
      "32         False            35\n",
      "33         False            65\n",
      "34         False            50\n",
      "35         False            80\n",
      "36         False            40\n",
      "37         False            10\n",
      "38         False            10\n",
      "           True            360\n",
      "39         False            25\n",
      "40         False            45\n",
      "41         False            30\n",
      "42         False            45\n"
     ]
    }
   ],
   "source": [
    "df2 = df_preds.groupby([\"true_label\",\"is_equal\"]).agg([\"count\"])\n",
    "print(df2)"
   ]
  },
  {
   "cell_type": "markdown",
   "metadata": {},
   "source": [
    "Plotting the difference shown in the data above we get:"
   ]
  },
  {
   "cell_type": "code",
   "execution_count": 8,
   "metadata": {},
   "outputs": [],
   "source": [
    "def info_predictions(y_true, y_pred):\n",
    "    data = {}\n",
    "    for i in range(43):\n",
    "        count_equal = 0\n",
    "        count_diff = 0\n",
    "        for j in range(len(y_true)):\n",
    "            if y_true[j] == y_pred[j] == i:\n",
    "                count_equal += 1\n",
    "            elif y_true[j] == i != y_pred[j]:\n",
    "                count_diff += 1\n",
    "        data[i] = [count_equal, count_diff]\n",
    "    \n",
    "    df = pd.DataFrame(data).transpose()\n",
    "    df.columns = [\"equal\", \"not_equal\"]\n",
    "    return df"
   ]
  },
  {
   "cell_type": "code",
   "execution_count": 9,
   "metadata": {},
   "outputs": [
    {
     "data": {
      "text/plain": [
       "<matplotlib.axes._subplots.AxesSubplot at 0x7fe41b6acf60>"
      ]
     },
     "execution_count": 9,
     "metadata": {},
     "output_type": "execute_result"
    },
    {
     "data": {
      "image/png": "[encoded data removed]",
      "text/plain": [
       "<Figure size 1440x1440 with 1 Axes>"
      ]
     },
     "metadata": {},
     "output_type": "display_data"
    }
   ],
   "source": [
    "matplotlib.rcParams['figure.figsize'] = [20, 20]\n",
    "df = info_predictions(train_labels, train_preds)\n",
    "df.plot(kind = \"barh\", grid=True)"
   ]
  },
  {
   "cell_type": "markdown",
   "metadata": {},
   "source": [
    "We can see that most of the classes are not correctly classified. Most of the classes with fewer training examples are the ones that have higher error (orange line). Only class 6 predicts correctly all images.\n",
    "\n",
    "The classes that have the most training data are the ones with better classification performance."
   ]
  },
  {
   "cell_type": "markdown",
   "metadata": {},
   "source": [
    "# Test accuracy"
   ]
  },
  {
   "cell_type": "markdown",
   "metadata": {},
   "source": [
    "The accuracy obtained by the model on the testing set is 63.5%."
   ]
  },
  {
   "cell_type": "code",
   "execution_count": 10,
   "metadata": {},
   "outputs": [
    {
     "name": "stderr",
     "output_type": "stream",
     "text": [
      "100%|██████████| 211/211 [00:00<00:00, 2990.84it/s]"
     ]
    },
    {
     "name": "stdout",
     "output_type": "stream",
     "text": [
      "#============ Loading Data ============#\n"
     ]
    },
    {
     "name": "stderr",
     "output_type": "stream",
     "text": [
      "\n"
     ]
    }
   ],
   "source": [
    "test_folder = os.path.join(os.getcwd(), \"images\", \"test\")\n",
    "test_images, test_labels = load_dataset(test_folder, img_size=32) #Load the testing data\n",
    "os.chdir(cwd)"
   ]
  },
  {
   "cell_type": "code",
   "execution_count": 11,
   "metadata": {},
   "outputs": [
    {
     "data": {
      "text/plain": [
       "<matplotlib.axes._subplots.AxesSubplot at 0x7fe4137b1e48>"
      ]
     },
     "execution_count": 11,
     "metadata": {},
     "output_type": "execute_result"
    },
    {
     "data": {
      "image/png": "[encoded data removed]",
      "text/plain": [
       "<Figure size 720x720 with 1 Axes>"
      ]
     },
     "metadata": {},
     "output_type": "display_data"
    }
   ],
   "source": [
    "matplotlib.rcParams['figure.figsize'] = [10, 10]\n",
    "df = pd.Series(test_labels)\n",
    "df.value_counts().plot('barh', grid=True, title=\"Number of images per class\")"
   ]
  },
  {
   "cell_type": "code",
   "execution_count": 12,
   "metadata": {},
   "outputs": [
    {
     "name": "stderr",
     "output_type": "stream",
     "text": [
      "100%|██████████| 211/211 [00:00<00:00, 4658.57it/s]"
     ]
    },
    {
     "name": "stdout",
     "output_type": "stream",
     "text": [
      "#============ Loading Data ============#\n",
      "Number of testing examples = 211\n",
      "X_test shape: (211, 32, 32, 3)\n",
      "Y_test shape: (211, 43)\n",
      "INFO:tensorflow:Restoring parameters from /home/camiloiral/Workspace/kiwi_challenge/German_Traffic_Signs_Detector/models/model1/saved/lenet5\n"
     ]
    },
    {
     "name": "stderr",
     "output_type": "stream",
     "text": [
      "\n"
     ]
    },
    {
     "name": "stdout",
     "output_type": "stream",
     "text": [
      "#============ test accuracy: 0.6350710988044739 ============#\n"
     ]
    }
   ],
   "source": [
    "tf.reset_default_graph()\n",
    "test_preds = evaluate_lenet5(d=test_folder, model=\"model1\", n_classes= 43, mode=\"test\")\n",
    "test_preds = np.array(test_preds)"
   ]
  },
  {
   "cell_type": "code",
   "execution_count": 13,
   "metadata": {},
   "outputs": [
    {
     "data": {
      "text/plain": [
       "<matplotlib.axes._subplots.AxesSubplot at 0x7fe413518fd0>"
      ]
     },
     "execution_count": 13,
     "metadata": {},
     "output_type": "execute_result"
    },
    {
     "data": {
      "image/png": "[encoded data removed]",
      "text/plain": [
       "<Figure size 1440x1440 with 1 Axes>"
      ]
     },
     "metadata": {},
     "output_type": "display_data"
    }
   ],
   "source": [
    "matplotlib.rcParams['figure.figsize'] = [20, 20]\n",
    "df = info_predictions(test_labels, test_preds)\n",
    "df.plot(kind = \"barh\", grid=True)"
   ]
  },
  {
   "cell_type": "markdown",
   "metadata": {},
   "source": [
    "We see that the results obtained during testing are similar to the ones obtained with training. Most of the classes with fewer training examples are the ones that have higher testing error (orange lines). \n",
    "\n",
    "The classes that have most training data are the ones with better testing performance."
   ]
  },
  {
   "cell_type": "markdown",
   "metadata": {},
   "source": [
    "# Conclusions:"
   ]
  },
  {
   "cell_type": "markdown",
   "metadata": {},
   "source": [
    "Testing data is guaranteed that has never been seen by the model. \n",
    "\n",
    "The model does not generalize well on the classes that have small amount of training data. The accuracy is small in both training and testing. Getting more training data and training for more epochs may improve the performance of the model.\n"
   ]
  }
 ],
 "metadata": {
  "kernelspec": {
   "display_name": "Python 3",
   "language": "python",
   "name": "python3"
  },
  "language_info": {
   "codemirror_mode": {
    "name": "ipython",
    "version": 3
   },
   "file_extension": ".py",
   "mimetype": "text/x-python",
   "name": "python",
   "nbconvert_exporter": "python",
   "pygments_lexer": "ipython3",
   "version": "3.5.2"
  }
 },
 "nbformat": 4,
 "nbformat_minor": 2
}
